{
 "cells": [
  {
   "cell_type": "code",
   "execution_count": 2,
   "metadata": {},
   "outputs": [],
   "source": [
    "import numpy as np\n",
    "import math\n",
    "import scipy.linalg\n",
    "import matplotlib.pyplot as plt"
   ]
  },
  {
   "cell_type": "code",
   "execution_count": 3,
   "metadata": {},
   "outputs": [],
   "source": [
    "# define matrix lattice\n",
    "L = 4\n",
    "lattice = [(i, j) for i in range(1) for j in range(L)]"
   ]
  },
  {
   "cell_type": "code",
   "execution_count": 4,
   "metadata": {},
   "outputs": [],
   "source": [
    "# define hamiltonian in number basis\n",
    "site_energy = -1.0\n",
    "tunelling_energy = -1.0\n",
    "\n",
    "# insert energies into hamiltonian\n",
    "hamiltonian_matrix = np.zeros(shape=(2**L, 2**L))\n",
    "block_size = np.array([math.comb(L, n) for n in range(0, L+1)])\n",
    "\n",
    "block_idx_start = np.zeros(L+1, dtype=int)\n",
    "block_idx_start[1:L+1] = np.cumsum(block_size[0:L])\n",
    "block_idx_end = np.cumsum(block_size)\n",
    "\n",
    "for n in range(0, L+1):\n",
    "    np.fill_diagonal(hamiltonian_matrix[block_idx_start[n]:block_idx_end[n]-1, block_idx_start[n]+1:block_idx_end[n]], tunelling_energy)\n",
    "    np.fill_diagonal(hamiltonian_matrix[block_idx_start[n]:block_idx_end[n], block_idx_start[n]:block_idx_end[n]], n * site_energy * np.ones(block_size[n]))\n",
    "    np.fill_diagonal(hamiltonian_matrix[block_idx_start[n]+1:block_idx_end[n], block_idx_start[n]:block_idx_end[n]-1], tunelling_energy)"
   ]
  },
  {
   "cell_type": "code",
   "execution_count": 7,
   "metadata": {},
   "outputs": [
    {
     "name": "stdout",
     "output_type": "stream",
     "text": [
      "energies =  [-4.61803399 -4.         -3.80193774 -3.61803399 -3.2469796  -2.61803399\n",
      " -2.44504187 -2.38196601 -1.61803399 -1.55495813 -1.38196601 -0.7530204\n",
      " -0.38196601 -0.19806226  0.          0.61803399]\n"
     ]
    }
   ],
   "source": [
    "# diagonalize Hamiltonian\n",
    "energies, states = scipy.linalg.eigh(hamiltonian_matrix)\n",
    "print(\"energies = \", energies)"
   ]
  },
  {
   "cell_type": "code",
   "execution_count": 6,
   "metadata": {},
   "outputs": [
    {
     "data": {
      "image/png": "[encoded data removed]",
      "text/plain": [
       "<Figure size 432x288 with 1 Axes>"
      ]
     },
     "metadata": {
      "needs_background": "light"
     },
     "output_type": "display_data"
    }
   ],
   "source": [
    "plt.grid(linestyle=\":\")\n",
    "plt.plot(energies)\n",
    "plt.show()"
   ]
  },
  {
   "cell_type": "code",
   "execution_count": null,
   "metadata": {},
   "outputs": [],
   "source": []
  },
  {
   "cell_type": "code",
   "execution_count": null,
   "metadata": {},
   "outputs": [],
   "source": []
  }
 ],
 "metadata": {
  "interpreter": {
   "hash": "892cf943de5f84511222e341d67ae48442b9a70bf95e6c13249d906efa0eaf32"
  },
  "kernelspec": {
   "display_name": "Python 3.9.7 64-bit ('numerics': conda)",
   "language": "python",
   "name": "python3"
  },
  "language_info": {
   "codemirror_mode": {
    "name": "ipython",
    "version": 3
   },
   "file_extension": ".py",
   "mimetype": "text/x-python",
   "name": "python",
   "nbconvert_exporter": "python",
   "pygments_lexer": "ipython3",
   "version": "3.9.7"
  },
  "orig_nbformat": 4
 },
 "nbformat": 4,
 "nbformat_minor": 2
}
