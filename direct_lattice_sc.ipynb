{
 "cells": [
  {
   "cell_type": "code",
   "execution_count": 1,
   "metadata": {},
   "outputs": [],
   "source": [
    "import numpy as np\n",
    "from lattice_class import *\n",
    "import scipy.linalg\n",
    "import matplotlib.pyplot as plt"
   ]
  },
  {
   "cell_type": "code",
   "execution_count": 12,
   "metadata": {},
   "outputs": [
    {
     "data": {
      "image/png": "[encoded data removed]",
      "text/plain": [
       "<Figure size 432x288 with 1 Axes>"
      ]
     },
     "metadata": {
      "needs_background": "light"
     },
     "output_type": "display_data"
    },
    {
     "name": "stdout",
     "output_type": "stream",
     "text": [
      "edges =  [[1, 2], [0, 2, 4], [1, 5], [0, 4, 6], [1, 3, 5, 7], [2, 4, 8], [3, 7], [4, 6, 8], [5, 7]]\n"
     ]
    }
   ],
   "source": [
    "N = 3\n",
    "num_sites   = N**2\n",
    "lattice = SquareLattice(N)\n",
    "\n",
    "lattice._edges = [[1, 2], [0, 2, 4], [1, 5], [0, 4, 6], [1, 3, 5, 7], [2, 4, 8], [3, 7], [4, 6, 8], [5, 7]]\n",
    "\n",
    "lattice.plot()\n",
    "\n",
    "lattice_sites = lattice.get_nodes()\n",
    "lattice_edges = lattice.get_edges()\n",
    "reciprocal_lattice_sites = lattice.get_reciprocal_nodes()\n",
    "k_x_values = [k[0] for k in reciprocal_lattice_sites]\n",
    "k_y_values = [k[1] for k in reciprocal_lattice_sites]\n",
    "\n",
    "print(\"edges = \", lattice_edges)\n",
    "\n"
   ]
  },
  {
   "cell_type": "code",
   "execution_count": 13,
   "metadata": {},
   "outputs": [],
   "source": [
    "mu          = -0.5\n",
    "delta       = complex(0.5, 0.0)\n",
    "\n",
    "H_k         = lambda k: np.array(\n",
    "                                [[-(np.cos(k[0]) + np.cos(k[1])) - mu, 0.0], \n",
    "                                [0.0, -(np.cos(k[0]) + np.cos(k[1])) - mu]]\n",
    "                                , dtype=complex)\n",
    "gap_fct     = lambda k: np.array(\n",
    "                                [[0.0, delta * complex(np.sin(k[0]), np.sin(k[1]))], \n",
    "                                [delta.conjugate() * complex(np.sin(k[0]), -np.sin(k[1])), 0.0]]\n",
    "                                , dtype=complex)\n",
    "H_BdG       = lambda k: np.block(\n",
    "                                [[H_k(k), gap_fct(k)], \n",
    "                                [gap_fct(k).conj().T, -H_k(-k).conj()]]\n",
    "                                )\n",
    "dim_H_BdG = 4"
   ]
  },
  {
   "cell_type": "code",
   "execution_count": 14,
   "metadata": {},
   "outputs": [],
   "source": [
    "def get_H_tilde(direction, axis=0):\n",
    "    H_tilde = np.zeros(shape=(dim_H_BdG, dim_H_BdG), dtype=complex)\n",
    "    for k in reciprocal_lattice_sites:\n",
    "        H_tilde += 1.0 / num_sites * H_BdG(np.array(k)) * np.exp(direction * complex(0.0, 1.0) * k[axis])\n",
    "    return H_tilde\n",
    "\n"
   ]
  },
  {
   "cell_type": "code",
   "execution_count": 15,
   "metadata": {},
   "outputs": [],
   "source": [
    "H_direct_lattice = np.zeros(shape=(num_sites * dim_H_BdG, num_sites * dim_H_BdG), dtype=complex)\n",
    "block_indices = [slice(block_idx * dim_H_BdG, (block_idx+1) * dim_H_BdG) for block_idx in range(lattice.get_num_nodes())]\n",
    "\n",
    "for (node_idx, node) in enumerate(lattice.get_nodes()):\n",
    "    H_direct_lattice[block_indices[node_idx], block_indices[node_idx]] = get_H_tilde(0)\n",
    "\n",
    "    for neighbour_idx in lattice_edges[node_idx]:\n",
    "        axis = -1 \n",
    "        if (neighbour_idx) // N != (node_idx // N):\n",
    "            axis = 1\n",
    "        elif (neighbour_idx) // N == (node_idx // N):\n",
    "            axis = 0\n",
    "        else:\n",
    "            print(\"something went terribly wrong while constructing the direct lattice hamiltonian\")\n",
    "        assert axis == 0 or axis == 1, \"axis assertion failed\"\n",
    "\n",
    "        direction = 0\n",
    "        if node_idx < neighbour_idx:\n",
    "            direction = (-1)**axis\n",
    "        elif node_idx > neighbour_idx:\n",
    "            direction = -1 * (-1)** axis\n",
    "        else:\n",
    "            print(\"something went terribly wrong while constructing the direct lattice hamiltonian\")\n",
    "        assert direction == 1 or direction == -1, \"direction assertion failed\"\n",
    "\n",
    "        H_direct_lattice[block_indices[node_idx], block_indices[neighbour_idx]] = get_H_tilde(direction, axis)\n"
   ]
  },
  {
   "cell_type": "code",
   "execution_count": 16,
   "metadata": {},
   "outputs": [],
   "source": [
    "energies, _ = scipy.linalg.eigh(H_direct_lattice)"
   ]
  },
  {
   "cell_type": "code",
   "execution_count": 17,
   "metadata": {},
   "outputs": [
    {
     "data": {
      "text/plain": [
       "<matplotlib.collections.PathCollection at 0x7ff4018f0550>"
      ]
     },
     "execution_count": 17,
     "metadata": {},
     "output_type": "execute_result"
    },
    {
     "data": {
      "image/png": "[encoded data removed]",
      "text/plain": [
       "<Figure size 432x288 with 1 Axes>"
      ]
     },
     "metadata": {
      "needs_background": "light"
     },
     "output_type": "display_data"
    }
   ],
   "source": [
    "plt.xlabel(\"Energy Index\")\n",
    "plt.ylabel(\"Energy\")\n",
    "plt.grid(linestyle=\":\")\n",
    "plt.title(\"Energy Eigenvalues of Chiral p-wave SC\")\n",
    "plt.scatter(range(len(energies)), energies, s=1)"
   ]
  },
  {
   "cell_type": "code",
   "execution_count": null,
   "metadata": {},
   "outputs": [],
   "source": []
  },
  {
   "cell_type": "code",
   "execution_count": null,
   "metadata": {},
   "outputs": [],
   "source": []
  }
 ],
 "metadata": {
  "interpreter": {
   "hash": "892cf943de5f84511222e341d67ae48442b9a70bf95e6c13249d906efa0eaf32"
  },
  "kernelspec": {
   "display_name": "Python 3.9.7 ('numerics')",
   "language": "python",
   "name": "python3"
  },
  "language_info": {
   "codemirror_mode": {
    "name": "ipython",
    "version": 3
   },
   "file_extension": ".py",
   "mimetype": "text/x-python",
   "name": "python",
   "nbconvert_exporter": "python",
   "pygments_lexer": "ipython3",
   "version": "3.9.7"
  },
  "orig_nbformat": 4
 },
 "nbformat": 4,
 "nbformat_minor": 2
}
